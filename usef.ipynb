{
 "cells": [
  {
   "cell_type": "code",
   "execution_count": null,
   "metadata": {},
   "outputs": [],
   "source": [
    "import cx_Oracle\n",
    "import numpy as np,pandas as pd\n",
    "from datetime import date\n",
    "import requests,sqlalchemy as sq,time as t,datetime \n",
    "import sys,pyodbc as py,json"
   ]
  },
  {
   "cell_type": "code",
   "execution_count": null,
   "metadata": {},
   "outputs": [],
   "source": [
    "today = date.today()\n",
    "print(today)\n",
    "dataset.to_excel(f'asf_{today}.xlsx',index=False)"
   ]
  },
  {
   "cell_type": "code",
   "execution_count": null,
   "metadata": {},
   "outputs": [],
   "source": [
    "#Anti-join bir cədvəldən digərini exclude etmək üçün\n",
    "def anti_join(df_A, df_B, key):\n",
    "    set_diff = set(df_A[key]).difference(df_B[key])\n",
    "    bool_diff = df_A[key].isin(set_diff)\n",
    "    df_diff = df_A.loc[bool_diff]\n",
    "    return df_diff"
   ]
  },
  {
   "cell_type": "code",
   "execution_count": null,
   "metadata": {},
   "outputs": [],
   "source": [
    "#SQL-ə qoşulmaq üçün\n",
    "\n",
    "dsn_tns = cx_Oracle.makedsn('', '', service_name='') # if needed, place an 'r' before any parameter in order to address special characters such as '\\'.\n",
    "conn = cx_Oracle.connect(user='', password='', dsn=dsn_tns)"
   ]
  },
  {
   "cell_type": "code",
   "execution_count": null,
   "metadata": {},
   "outputs": [],
   "source": [
    "scrpt='''\n",
    "'''"
   ]
  },
  {
   "cell_type": "code",
   "execution_count": null,
   "metadata": {},
   "outputs": [],
   "source": [
    "weekly_lead = pd.read_sql(scrpt,con=conn)"
   ]
  },
  {
   "cell_type": "code",
   "execution_count": null,
   "metadata": {},
   "outputs": [],
   "source": [
    "weekly_lead=weekly_lead.drop_duplicates(subset='PHONE',keep='first')"
   ]
  },
  {
   "cell_type": "code",
   "execution_count": null,
   "metadata": {},
   "outputs": [],
   "source": [
    "\n",
    "dataset=dataset.rename(columns={\"Phone\": \"PHONE\"})"
   ]
  },
  {
   "cell_type": "code",
   "execution_count": null,
   "metadata": {},
   "outputs": [],
   "source": [
    "dataset=dataset.merge(dataset2, on='KB_ID', how='left')\n"
   ]
  },
  {
   "cell_type": "code",
   "execution_count": null,
   "metadata": {},
   "outputs": [],
   "source": [
    "dt1=dataset.loc[(dataset['segment']=='not')]\n"
   ]
  },
  {
   "cell_type": "code",
   "execution_count": null,
   "metadata": {},
   "outputs": [],
   "source": [
    "dataset=pd.read_sql('''\n",
    "''',con=conn)"
   ]
  },
  {
   "cell_type": "code",
   "execution_count": null,
   "metadata": {},
   "outputs": [],
   "source": [
    "dataset_new=dataset.loc[(dataset['isit']==1)]"
   ]
  },
  {
   "cell_type": "code",
   "execution_count": null,
   "metadata": {},
   "outputs": [],
   "source": [
    "dataset_new=dataset.loc[(dataset['isit1'] == 0 ) & (dataset['isit2'] == 1)]\n",
    "dataset_new=dataset_new[weekly_ind['BIRBANK'].isnull()]\n"
   ]
  },
  {
   "cell_type": "code",
   "execution_count": null,
   "metadata": {},
   "outputs": [],
   "source": [
    "idd=list(dataset['KB_ID'])\n"
   ]
  },
  {
   "cell_type": "code",
   "execution_count": null,
   "metadata": {},
   "outputs": [],
   "source": [
    "dataset = pd.DataFrame()\n",
    "for i in range(0,len(idd),1000):\n",
    "    b='('\n",
    "    for j in idd[i:i+1000]:\n",
    "        b = b+\"'\"+str(j)+\"',\"\n",
    "    b = b[:-1]\n",
    "    b = b+')'\n",
    "    print(i)\n",
    "    dataset_drop = pd.read_sql(scrpt + b,con=conn)\n",
    "    dataset = dataset.append(dataset_drop, ignore_index = True)"
   ]
  },
  {
   "cell_type": "code",
   "execution_count": null,
   "metadata": {},
   "outputs": [],
   "source": []
  },
  {
   "cell_type": "markdown",
   "metadata": {},
   "source": [
    "\n",
    "STARTS FROM HERE\n"
   ]
  },
  {
   "cell_type": "code",
   "execution_count": null,
   "metadata": {},
   "outputs": [],
   "source": [
    "### START FROM HERE\n",
    "\n",
    "\n",
    "df = dataset.sample(frac=1).reset_index(drop=True)\n",
    "len(df)"
   ]
  },
  {
   "cell_type": "code",
   "execution_count": null,
   "metadata": {},
   "outputs": [],
   "source": [
    "25500/4"
   ]
  },
  {
   "cell_type": "code",
   "execution_count": null,
   "metadata": {},
   "outputs": [],
   "source": [
    "dff1 = df.iloc[:6375]\n",
    "dff1.shape\n",
    "dff1.tail()"
   ]
  },
  {
   "cell_type": "code",
   "execution_count": null,
   "metadata": {},
   "outputs": [],
   "source": [
    "dff1 = df.iloc[68789:68788*2]\n",
    "dff1.shape\n",
    "dff1.tail()"
   ]
  },
  {
   "cell_type": "code",
   "execution_count": null,
   "metadata": {},
   "outputs": [],
   "source": [
    "# Make sure no column is duplicate after index slicing. Save 4 dataframes to excel files.\n",
    "\n",
    "df1 = df.iloc[:6375]\n",
    "df2 = df.iloc[6375:6375*2]\n",
    "df3 = df.iloc[6375*2:6375*3]\n",
    "df4 = df.iloc[6375*3:]"
   ]
  },
  {
   "cell_type": "code",
   "execution_count": null,
   "metadata": {},
   "outputs": [],
   "source": [
    "df3.shape+df2.shape+df1.shape+df4.shape"
   ]
  },
  {
   "cell_type": "code",
   "execution_count": null,
   "metadata": {},
   "outputs": [],
   "source": [
    "ls = [\"GENDER\",\"AGESEGMENT\",\"ELIGIBILITY\",\"TYPE\",\"ACTIVE_CREDIT_CARD\"]"
   ]
  },
  {
   "cell_type": "code",
   "execution_count": null,
   "metadata": {},
   "outputs": [],
   "source": [
    "df1[ls[3]].value_counts()"
   ]
  },
  {
   "cell_type": "code",
   "execution_count": null,
   "metadata": {},
   "outputs": [],
   "source": [
    "df2[ls[3]].value_counts()"
   ]
  },
  {
   "cell_type": "code",
   "execution_count": null,
   "metadata": {},
   "outputs": [],
   "source": [
    "df3[ls[3]].value_counts()"
   ]
  },
  {
   "cell_type": "code",
   "execution_count": null,
   "metadata": {},
   "outputs": [],
   "source": [
    "s = df4[ls[3]].value_counts()"
   ]
  },
  {
   "cell_type": "code",
   "execution_count": null,
   "metadata": {},
   "outputs": [],
   "source": [
    "def test_splits(df):\n",
    "    temp_l = []\n",
    "    final_l = []\n",
    "    for i in ls:\n",
    "        val = list(df[i].value_counts())\n",
    "        temp_l.append(val)\n",
    "    for i in temp_l:\n",
    "        s = [round(x/sum(i)*100,2) for x in i]\n",
    "        final_l.append(s)\n",
    "    return final_l"
   ]
  },
  {
   "cell_type": "code",
   "execution_count": null,
   "metadata": {},
   "outputs": [],
   "source": [
    "t = test_splits(df1)"
   ]
  },
  {
   "cell_type": "code",
   "execution_count": null,
   "metadata": {},
   "outputs": [],
   "source": [
    "t"
   ]
  },
  {
   "cell_type": "code",
   "execution_count": null,
   "metadata": {},
   "outputs": [],
   "source": [
    "final = []\n",
    "t = test_splits(df1)\n",
    "final.append(t)\n",
    "t = test_splits(df2)\n",
    "final.append(t)\n",
    "t = test_splits(df3)\n",
    "final.append(t)\n",
    "t = test_splits(df4)\n",
    "final.append(t)\n"
   ]
  },
  {
   "cell_type": "code",
   "execution_count": null,
   "metadata": {},
   "outputs": [],
   "source": [
    "final"
   ]
  },
  {
   "cell_type": "code",
   "execution_count": null,
   "metadata": {},
   "outputs": [],
   "source": [
    "for i in final:\n",
    "    print(i[0])"
   ]
  },
  {
   "cell_type": "code",
   "execution_count": null,
   "metadata": {},
   "outputs": [],
   "source": [
    "for i in final:\n",
    "    print(i[1])"
   ]
  },
  {
   "cell_type": "code",
   "execution_count": null,
   "metadata": {},
   "outputs": [],
   "source": [
    "for i in final:\n",
    "    print(i[2])"
   ]
  },
  {
   "cell_type": "code",
   "execution_count": null,
   "metadata": {},
   "outputs": [],
   "source": [
    "for i in final:\n",
    "    print(i[3])"
   ]
  },
  {
   "cell_type": "code",
   "execution_count": null,
   "metadata": {},
   "outputs": [],
   "source": [
    "ls[3]"
   ]
  },
  {
   "cell_type": "code",
   "execution_count": null,
   "metadata": {},
   "outputs": [],
   "source": [
    "ls1 = list(dataset[ls[0]].value_counts()) #Change index of ls for checking different columns"
   ]
  },
  {
   "cell_type": "code",
   "execution_count": null,
   "metadata": {},
   "outputs": [],
   "source": [
    "ls1"
   ]
  },
  {
   "cell_type": "code",
   "execution_count": null,
   "metadata": {},
   "outputs": [],
   "source": [
    "s = [round(x/sum(ls1)*100,2) for x in ls1] #value ratio of TYPE column in original dataframe"
   ]
  },
  {
   "cell_type": "code",
   "execution_count": null,
   "metadata": {},
   "outputs": [],
   "source": [
    "s"
   ]
  },
  {
   "cell_type": "code",
   "execution_count": null,
   "metadata": {},
   "outputs": [],
   "source": [
    "df1.to_excel('part_1.xlsx',index=False)\n",
    "df2.to_excel('part_2.xlsx',index=False)\n",
    "df3.to_excel('part_3.xlsx',index=False)\n",
    "df4.to_excel('part_4.xlsx',index=False)\n"
   ]
  },
  {
   "cell_type": "code",
   "execution_count": null,
   "metadata": {},
   "outputs": [],
   "source": [
    "final=[]\n",
    "t = test_splits(df1)\n",
    "final.append(t)\n",
    "t = test_splits(df2)"
   ]
  },
  {
   "cell_type": "code",
   "execution_count": null,
   "metadata": {},
   "outputs": [],
   "source": [
    "df1.info()"
   ]
  },
  {
   "cell_type": "code",
   "execution_count": null,
   "metadata": {},
   "outputs": [],
   "source": []
  },
  {
   "cell_type": "code",
   "execution_count": null,
   "metadata": {},
   "outputs": [],
   "source": [
    "\n",
    "#only gtk ete sp\n",
    "only_gtk_ete_sp_sms=weekly_sp_sms.loc[(weekly_sp_sms['BK'] == 0 ) & (weekly_sp_sms['GTK_ETE'] == 1)]\n",
    "weekly_sp_sms=anti_join(weekly_sp_sms,only_gtk_ete_sp_sms,'PHONE')\n",
    "only_gtk_ete_sp_sms.shape\n",
    "only_gtk_ete_sp_sms_ph=only_gtk_ete_sp_sms['PHONE']\n",
    "only_gtk_ete_sp_sms_ph.to_excel('only_gtk_ete_sp_sms.xlsx',index=False)"
   ]
  },
  {
   "cell_type": "code",
   "execution_count": null,
   "metadata": {},
   "outputs": [],
   "source": []
  }
 ],
 "metadata": {
  "kernelspec": {
   "display_name": "Python 3",
   "language": "python",
   "name": "python3"
  },
  "language_info": {
   "codemirror_mode": {
    "name": "ipython",
    "version": 3
   },
   "file_extension": ".py",
   "mimetype": "text/x-python",
   "name": "python",
   "nbconvert_exporter": "python",
   "pygments_lexer": "ipython3",
   "version": "3.7.4"
  }
 },
 "nbformat": 4,
 "nbformat_minor": 2
}
